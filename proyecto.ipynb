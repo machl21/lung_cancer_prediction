{
 "cells": [
  {
   "cell_type": "markdown",
   "metadata": {},
   "source": [
    "### Lectura de datos"
   ]
  },
  {
   "cell_type": "code",
   "execution_count": 214,
   "metadata": {},
   "outputs": [],
   "source": [
    "import numpy as np\n",
    "import pandas as pd\n",
    "\n",
    "D = pd.read_csv(\"cancer_patient_data_sets.csv\")"
   ]
  },
  {
   "cell_type": "markdown",
   "metadata": {},
   "source": [
    "### Preprocesamiento\n",
    "\n",
    "Ahora vamos a quitar las columnas index y patient ID que no son necesarias"
   ]
  },
  {
   "cell_type": "code",
   "execution_count": 215,
   "metadata": {},
   "outputs": [],
   "source": [
    "D=D.drop(columns=[\"index\",\"Patient Id\"])"
   ]
  },
  {
   "cell_type": "markdown",
   "metadata": {},
   "source": [
    "Tenemos que mirar si los datos estan bien, primero revisamos que no hayan datos nulos en alguna parte"
   ]
  },
  {
   "cell_type": "code",
   "execution_count": 216,
   "metadata": {},
   "outputs": [
    {
     "data": {
      "text/plain": [
       "Age                         0\n",
       "Gender                      0\n",
       "Air Pollution               0\n",
       "Alcohol use                 0\n",
       "Dust Allergy                0\n",
       "OccuPational Hazards        0\n",
       "Genetic Risk                0\n",
       "chronic Lung Disease        0\n",
       "Balanced Diet               0\n",
       "Obesity                     0\n",
       "Smoking                     0\n",
       "Passive Smoker              0\n",
       "Chest Pain                  0\n",
       "Coughing of Blood           0\n",
       "Fatigue                     0\n",
       "Weight Loss                 0\n",
       "Shortness of Breath         0\n",
       "Wheezing                    0\n",
       "Swallowing Difficulty       0\n",
       "Clubbing of Finger Nails    0\n",
       "Frequent Cold               0\n",
       "Dry Cough                   0\n",
       "Snoring                     0\n",
       "Level                       0\n",
       "dtype: int64"
      ]
     },
     "execution_count": 216,
     "metadata": {},
     "output_type": "execute_result"
    }
   ],
   "source": [
    "D.isnull().sum()"
   ]
  },
  {
   "cell_type": "markdown",
   "metadata": {},
   "source": [
    "Tambien revisamos que no esten desbalanceados los datos, esto es, que no haya una gran cantidad de alguna de las clases en comparación a las otras"
   ]
  },
  {
   "cell_type": "code",
   "execution_count": 217,
   "metadata": {},
   "outputs": [
    {
     "data": {
      "text/plain": [
       "High      365\n",
       "Medium    332\n",
       "Low       303\n",
       "Name: Level, dtype: int64"
      ]
     },
     "execution_count": 217,
     "metadata": {},
     "output_type": "execute_result"
    }
   ],
   "source": [
    "D['Level'].value_counts()"
   ]
  },
  {
   "cell_type": "markdown",
   "metadata": {},
   "source": [
    "Podemos ver que hay un número similar de la cantidad de elementos en las clases, lo que nos indica que los datos son buenos para trabajar con ellos.\n",
    "\n",
    "Ahora revisamos como es la informacion de cada columna de los datos"
   ]
  },
  {
   "cell_type": "code",
   "execution_count": 218,
   "metadata": {},
   "outputs": [
    {
     "name": "stdout",
     "output_type": "stream",
     "text": [
      "<class 'pandas.core.frame.DataFrame'>\n",
      "RangeIndex: 1000 entries, 0 to 999\n",
      "Data columns (total 24 columns):\n",
      " #   Column                    Non-Null Count  Dtype \n",
      "---  ------                    --------------  ----- \n",
      " 0   Age                       1000 non-null   int64 \n",
      " 1   Gender                    1000 non-null   int64 \n",
      " 2   Air Pollution             1000 non-null   int64 \n",
      " 3   Alcohol use               1000 non-null   int64 \n",
      " 4   Dust Allergy              1000 non-null   int64 \n",
      " 5   OccuPational Hazards      1000 non-null   int64 \n",
      " 6   Genetic Risk              1000 non-null   int64 \n",
      " 7   chronic Lung Disease      1000 non-null   int64 \n",
      " 8   Balanced Diet             1000 non-null   int64 \n",
      " 9   Obesity                   1000 non-null   int64 \n",
      " 10  Smoking                   1000 non-null   int64 \n",
      " 11  Passive Smoker            1000 non-null   int64 \n",
      " 12  Chest Pain                1000 non-null   int64 \n",
      " 13  Coughing of Blood         1000 non-null   int64 \n",
      " 14  Fatigue                   1000 non-null   int64 \n",
      " 15  Weight Loss               1000 non-null   int64 \n",
      " 16  Shortness of Breath       1000 non-null   int64 \n",
      " 17  Wheezing                  1000 non-null   int64 \n",
      " 18  Swallowing Difficulty     1000 non-null   int64 \n",
      " 19  Clubbing of Finger Nails  1000 non-null   int64 \n",
      " 20  Frequent Cold             1000 non-null   int64 \n",
      " 21  Dry Cough                 1000 non-null   int64 \n",
      " 22  Snoring                   1000 non-null   int64 \n",
      " 23  Level                     1000 non-null   object\n",
      "dtypes: int64(23), object(1)\n",
      "memory usage: 187.6+ KB\n"
     ]
    }
   ],
   "source": [
    "D.info()"
   ]
  },
  {
   "cell_type": "markdown",
   "metadata": {},
   "source": [
    "Podemos ver que la columna Level, la cual corresponde a la etiqueta, el tipo de dato es de objeto, luego, haremos una codificación de esta columna para tener numeros enteros, los valores que le daremos son:\n",
    " - Low: 0\n",
    " - Medium: 1\n",
    " - High: 2"
   ]
  },
  {
   "cell_type": "code",
   "execution_count": 219,
   "metadata": {},
   "outputs": [
    {
     "data": {
      "text/plain": [
       "2    365\n",
       "1    332\n",
       "0    303\n",
       "Name: Level, dtype: int64"
      ]
     },
     "execution_count": 219,
     "metadata": {},
     "output_type": "execute_result"
    }
   ],
   "source": [
    "D['Level']=D['Level'].replace({'Low':0,'Medium':1,'High':2})\n",
    "D['Level'].value_counts()"
   ]
  },
  {
   "cell_type": "markdown",
   "metadata": {},
   "source": [
    "### Entrenamiento\n",
    "\n",
    "Para el entrenamiento, probaremos tres modelos distintos, una maquina de vector soporte, un random forest y el ultimo un KNN, y usaremos la libreria Optuna para escoger la mejor configuración de los parametros del modelo."
   ]
  },
  {
   "cell_type": "code",
   "execution_count": 220,
   "metadata": {},
   "outputs": [],
   "source": [
    "from sklearn import svm\n",
    "from sklearn import neighbors\n",
    "from sklearn import tree\n",
    "from sklearn.model_selection import train_test_split\n",
    "from sklearn import metrics\n",
    "import optuna"
   ]
  },
  {
   "cell_type": "markdown",
   "metadata": {},
   "source": [
    "Primero hacemos la division de los datos en train, test, validation, para poder evaluar cual es el mejor modelo y luego probar el mejor obtenido.\n"
   ]
  },
  {
   "cell_type": "code",
   "execution_count": 221,
   "metadata": {},
   "outputs": [],
   "source": [
    "X = D.drop(columns=['Level'])\n",
    "y = D['Level']\n",
    "X_train, X_test, y_train, y_test = train_test_split(X,y,test_size=0.2,random_state=0)\n",
    "X_train, X_val, y_train, y_val = train_test_split(X_train,y_train,test_size=0.25,random_state=0) # 0.25 * 0.8 = 0.2"
   ]
  },
  {
   "cell_type": "markdown",
   "metadata": {},
   "source": [
    "El objetivo para escoger los parametros será minimizar el f1 score, para así tenen una baja cantidad de falsos positivos y falsos negativos ya que ambos son importante evitarlos.\n",
    "\n",
    "Probaremos primero con la maquina de vector soporte"
   ]
  },
  {
   "cell_type": "code",
   "execution_count": 222,
   "metadata": {},
   "outputs": [
    {
     "name": "stderr",
     "output_type": "stream",
     "text": [
      "[I 2023-11-22 15:10:54,781] A new study created in memory with name: no-name-5145aa1a-b19c-4d0f-afb0-b048907cea9c\n",
      "[I 2023-11-22 15:10:54,790] Trial 0 finished with value: 1.0 and parameters: {'svm_C': 0.3904723275730225, 'Kernel': 'linear'}. Best is trial 0 with value: 1.0.\n",
      "[I 2023-11-22 15:10:54,818] Trial 1 finished with value: 0.375 and parameters: {'svm_C': 5.911057615305833e-08, 'Kernel': 'rbf'}. Best is trial 0 with value: 1.0.\n",
      "[I 2023-11-22 15:10:54,838] Trial 2 finished with value: 0.375 and parameters: {'svm_C': 5.261934038421263e-09, 'Kernel': 'poly'}. Best is trial 0 with value: 1.0.\n",
      "[I 2023-11-22 15:10:54,852] Trial 3 finished with value: 0.93 and parameters: {'svm_C': 0.00020489511962295165, 'Kernel': 'linear'}. Best is trial 0 with value: 1.0.\n",
      "[I 2023-11-22 15:10:54,862] Trial 4 finished with value: 1.0 and parameters: {'svm_C': 56706.65788651281, 'Kernel': 'poly'}. Best is trial 0 with value: 1.0.\n",
      "[I 2023-11-22 15:10:54,870] Trial 5 finished with value: 1.0 and parameters: {'svm_C': 1.1628249521393745, 'Kernel': 'linear'}. Best is trial 0 with value: 1.0.\n",
      "[I 2023-11-22 15:10:54,879] Trial 6 finished with value: 1.0 and parameters: {'svm_C': 672.4108056031868, 'Kernel': 'linear'}. Best is trial 0 with value: 1.0.\n",
      "[I 2023-11-22 15:10:54,888] Trial 7 finished with value: 1.0 and parameters: {'svm_C': 1952.3229521442142, 'Kernel': 'linear'}. Best is trial 0 with value: 1.0.\n",
      "[I 2023-11-22 15:10:54,896] Trial 8 finished with value: 0.955 and parameters: {'svm_C': 2.249049456929891, 'Kernel': 'poly'}. Best is trial 0 with value: 1.0.\n",
      "[I 2023-11-22 15:10:54,915] Trial 9 finished with value: 0.375 and parameters: {'svm_C': 0.0006340005410883591, 'Kernel': 'poly'}. Best is trial 0 with value: 1.0.\n",
      "[I 2023-11-22 15:10:54,949] Trial 10 finished with value: 0.375 and parameters: {'svm_C': 4.206206104541307e-06, 'Kernel': 'sigmoid'}. Best is trial 0 with value: 1.0.\n",
      "[I 2023-11-22 15:10:54,976] Trial 11 finished with value: 0.31 and parameters: {'svm_C': 76397.07531663394, 'Kernel': 'sigmoid'}. Best is trial 0 with value: 1.0.\n",
      "[I 2023-11-22 15:10:54,994] Trial 12 finished with value: 0.96 and parameters: {'svm_C': 1.338255564332799, 'Kernel': 'rbf'}. Best is trial 0 with value: 1.0.\n",
      "[I 2023-11-22 15:10:55,013] Trial 13 finished with value: 0.905 and parameters: {'svm_C': 0.04430045629426824, 'Kernel': 'poly'}. Best is trial 0 with value: 1.0.\n",
      "[I 2023-11-22 15:10:55,027] Trial 14 finished with value: 1.0 and parameters: {'svm_C': 341.7646465523338, 'Kernel': 'poly'}. Best is trial 0 with value: 1.0.\n",
      "[I 2023-11-22 15:10:55,039] Trial 15 finished with value: 1.0 and parameters: {'svm_C': 23999.364035353166, 'Kernel': 'linear'}. Best is trial 0 with value: 1.0.\n",
      "[I 2023-11-22 15:10:55,067] Trial 16 finished with value: 0.32 and parameters: {'svm_C': 17.26340067247904, 'Kernel': 'sigmoid'}. Best is trial 0 with value: 1.0.\n",
      "[I 2023-11-22 15:10:55,101] Trial 17 finished with value: 0.595 and parameters: {'svm_C': 0.05187012816651247, 'Kernel': 'rbf'}. Best is trial 0 with value: 1.0.\n",
      "[I 2023-11-22 15:10:55,116] Trial 18 finished with value: 1.0 and parameters: {'svm_C': 15.272423601532802, 'Kernel': 'poly'}. Best is trial 0 with value: 1.0.\n",
      "[I 2023-11-22 15:10:55,129] Trial 19 finished with value: 1.0 and parameters: {'svm_C': 44160.869935519346, 'Kernel': 'linear'}. Best is trial 0 with value: 1.0.\n",
      "[I 2023-11-22 15:10:55,141] Trial 20 finished with value: 0.975 and parameters: {'svm_C': 0.018009802944954398, 'Kernel': 'linear'}. Best is trial 0 with value: 1.0.\n",
      "[I 2023-11-22 15:10:55,152] Trial 21 finished with value: 1.0 and parameters: {'svm_C': 0.7053713075434046, 'Kernel': 'linear'}. Best is trial 0 with value: 1.0.\n",
      "[I 2023-11-22 15:10:55,164] Trial 22 finished with value: 1.0 and parameters: {'svm_C': 74.34716115372578, 'Kernel': 'linear'}. Best is trial 0 with value: 1.0.\n",
      "[I 2023-11-22 15:10:55,177] Trial 23 finished with value: 1.0 and parameters: {'svm_C': 2984.0679448413143, 'Kernel': 'linear'}. Best is trial 0 with value: 1.0.\n",
      "[I 2023-11-22 15:10:55,189] Trial 24 finished with value: 1.0 and parameters: {'svm_C': 73.00312407829641, 'Kernel': 'linear'}. Best is trial 0 with value: 1.0.\n",
      "[I 2023-11-22 15:10:55,203] Trial 25 finished with value: 0.92 and parameters: {'svm_C': 0.4832699024448477, 'Kernel': 'poly'}. Best is trial 0 with value: 1.0.\n",
      "[I 2023-11-22 15:10:55,234] Trial 26 finished with value: 0.375 and parameters: {'svm_C': 0.002583848434631354, 'Kernel': 'rbf'}. Best is trial 0 with value: 1.0.\n",
      "[I 2023-11-22 15:10:55,260] Trial 27 finished with value: 0.32 and parameters: {'svm_C': 7.2295779280993235, 'Kernel': 'sigmoid'}. Best is trial 0 with value: 1.0.\n",
      "[I 2023-11-22 15:10:55,272] Trial 28 finished with value: 1.0 and parameters: {'svm_C': 7962.552011827003, 'Kernel': 'linear'}. Best is trial 0 with value: 1.0.\n",
      "[I 2023-11-22 15:10:55,286] Trial 29 finished with value: 1.0 and parameters: {'svm_C': 204.65330510004438, 'Kernel': 'rbf'}. Best is trial 0 with value: 1.0.\n",
      "[I 2023-11-22 15:10:55,301] Trial 30 finished with value: 0.91 and parameters: {'svm_C': 0.2249422572194198, 'Kernel': 'poly'}. Best is trial 0 with value: 1.0.\n",
      "[I 2023-11-22 15:10:55,314] Trial 31 finished with value: 1.0 and parameters: {'svm_C': 1238.687234022763, 'Kernel': 'linear'}. Best is trial 0 with value: 1.0.\n",
      "[I 2023-11-22 15:10:55,326] Trial 32 finished with value: 1.0 and parameters: {'svm_C': 713.4120883846674, 'Kernel': 'linear'}. Best is trial 0 with value: 1.0.\n",
      "[I 2023-11-22 15:10:55,338] Trial 33 finished with value: 1.0 and parameters: {'svm_C': 3989.6759397901824, 'Kernel': 'linear'}. Best is trial 0 with value: 1.0.\n",
      "[I 2023-11-22 15:10:55,350] Trial 34 finished with value: 1.0 and parameters: {'svm_C': 96112.49168603573, 'Kernel': 'linear'}. Best is trial 0 with value: 1.0.\n",
      "[I 2023-11-22 15:10:55,363] Trial 35 finished with value: 1.0 and parameters: {'svm_C': 42.23714276882102, 'Kernel': 'linear'}. Best is trial 0 with value: 1.0.\n",
      "[I 2023-11-22 15:10:55,376] Trial 36 finished with value: 0.96 and parameters: {'svm_C': 2.6435889274203377, 'Kernel': 'poly'}. Best is trial 0 with value: 1.0.\n",
      "[I 2023-11-22 15:10:55,388] Trial 37 finished with value: 1.0 and parameters: {'svm_C': 378.5622444013512, 'Kernel': 'linear'}. Best is trial 0 with value: 1.0.\n",
      "[I 2023-11-22 15:10:55,401] Trial 38 finished with value: 1.0 and parameters: {'svm_C': 8644.159639529558, 'Kernel': 'linear'}. Best is trial 0 with value: 1.0.\n",
      "[I 2023-11-22 15:10:55,429] Trial 39 finished with value: 0.33 and parameters: {'svm_C': 3.4979691593112983, 'Kernel': 'sigmoid'}. Best is trial 0 with value: 1.0.\n",
      "[I 2023-11-22 15:10:55,451] Trial 40 finished with value: 0.375 and parameters: {'svm_C': 0.00010681997804189738, 'Kernel': 'poly'}. Best is trial 0 with value: 1.0.\n",
      "[I 2023-11-22 15:10:55,464] Trial 41 finished with value: 1.0 and parameters: {'svm_C': 1465.2256647746876, 'Kernel': 'linear'}. Best is trial 0 with value: 1.0.\n",
      "[I 2023-11-22 15:10:55,476] Trial 42 finished with value: 1.0 and parameters: {'svm_C': 123.96195278027905, 'Kernel': 'linear'}. Best is trial 0 with value: 1.0.\n",
      "[I 2023-11-22 15:10:55,488] Trial 43 finished with value: 1.0 and parameters: {'svm_C': 10882.351907742783, 'Kernel': 'linear'}. Best is trial 0 with value: 1.0.\n",
      "[I 2023-11-22 15:10:55,504] Trial 44 finished with value: 1.0 and parameters: {'svm_C': 9.36047094236246, 'Kernel': 'poly'}. Best is trial 0 with value: 1.0.\n",
      "[I 2023-11-22 15:10:55,517] Trial 45 finished with value: 1.0 and parameters: {'svm_C': 25103.00716946592, 'Kernel': 'rbf'}. Best is trial 0 with value: 1.0.\n",
      "[I 2023-11-22 15:10:55,530] Trial 46 finished with value: 1.0 and parameters: {'svm_C': 291.1805993373516, 'Kernel': 'linear'}. Best is trial 0 with value: 1.0.\n",
      "[I 2023-11-22 15:10:55,555] Trial 47 finished with value: 0.31 and parameters: {'svm_C': 2992.57197177833, 'Kernel': 'sigmoid'}. Best is trial 0 with value: 1.0.\n",
      "[I 2023-11-22 15:10:55,568] Trial 48 finished with value: 1.0 and parameters: {'svm_C': 0.1483423569304484, 'Kernel': 'linear'}. Best is trial 0 with value: 1.0.\n",
      "[I 2023-11-22 15:10:55,582] Trial 49 finished with value: 0.93 and parameters: {'svm_C': 1.4533370510380632, 'Kernel': 'poly'}. Best is trial 0 with value: 1.0.\n",
      "[I 2023-11-22 15:10:55,594] Trial 50 finished with value: 1.0 and parameters: {'svm_C': 22.90592714178472, 'Kernel': 'linear'}. Best is trial 0 with value: 1.0.\n",
      "[I 2023-11-22 15:10:55,608] Trial 51 finished with value: 1.0 and parameters: {'svm_C': 768.8193738654526, 'Kernel': 'poly'}. Best is trial 0 with value: 1.0.\n",
      "[I 2023-11-22 15:10:55,621] Trial 52 finished with value: 1.0 and parameters: {'svm_C': 20774.8897631298, 'Kernel': 'poly'}. Best is trial 0 with value: 1.0.\n",
      "[I 2023-11-22 15:10:55,634] Trial 53 finished with value: 1.0 and parameters: {'svm_C': 76327.6821194207, 'Kernel': 'poly'}. Best is trial 0 with value: 1.0.\n",
      "[I 2023-11-22 15:10:55,648] Trial 54 finished with value: 1.0 and parameters: {'svm_C': 41.9332699609277, 'Kernel': 'poly'}. Best is trial 0 with value: 1.0.\n",
      "[I 2023-11-22 15:10:55,661] Trial 55 finished with value: 1.0 and parameters: {'svm_C': 139.04880573813875, 'Kernel': 'linear'}. Best is trial 0 with value: 1.0.\n",
      "[I 2023-11-22 15:10:55,674] Trial 56 finished with value: 1.0 and parameters: {'svm_C': 2904.893989886896, 'Kernel': 'rbf'}. Best is trial 0 with value: 1.0.\n",
      "[I 2023-11-22 15:10:55,689] Trial 57 finished with value: 1.0 and parameters: {'svm_C': 7.16196108000656, 'Kernel': 'poly'}. Best is trial 0 with value: 1.0.\n",
      "[I 2023-11-22 15:10:55,715] Trial 58 finished with value: 0.31 and parameters: {'svm_C': 489.60657832528165, 'Kernel': 'sigmoid'}. Best is trial 0 with value: 1.0.\n",
      "[I 2023-11-22 15:10:55,728] Trial 59 finished with value: 1.0 and parameters: {'svm_C': 28.2728793892281, 'Kernel': 'linear'}. Best is trial 0 with value: 1.0.\n",
      "[I 2023-11-22 15:10:55,740] Trial 60 finished with value: 1.0 and parameters: {'svm_C': 15153.664883375252, 'Kernel': 'linear'}. Best is trial 0 with value: 1.0.\n",
      "[I 2023-11-22 15:10:55,753] Trial 61 finished with value: 1.0 and parameters: {'svm_C': 28614.932895741, 'Kernel': 'linear'}. Best is trial 0 with value: 1.0.\n",
      "[I 2023-11-22 15:10:55,765] Trial 62 finished with value: 1.0 and parameters: {'svm_C': 4858.930181607176, 'Kernel': 'linear'}. Best is trial 0 with value: 1.0.\n",
      "[I 2023-11-22 15:10:55,778] Trial 63 finished with value: 1.0 and parameters: {'svm_C': 1451.962636052121, 'Kernel': 'linear'}. Best is trial 0 with value: 1.0.\n",
      "[I 2023-11-22 15:10:55,791] Trial 64 finished with value: 1.0 and parameters: {'svm_C': 42689.04354193422, 'Kernel': 'linear'}. Best is trial 0 with value: 1.0.\n",
      "[I 2023-11-22 15:10:55,804] Trial 65 finished with value: 1.0 and parameters: {'svm_C': 178.64972451313335, 'Kernel': 'poly'}. Best is trial 0 with value: 1.0.\n",
      "[I 2023-11-22 15:10:55,817] Trial 66 finished with value: 1.0 and parameters: {'svm_C': 6082.683983008936, 'Kernel': 'linear'}. Best is trial 0 with value: 1.0.\n",
      "[I 2023-11-22 15:10:55,835] Trial 67 finished with value: 0.96 and parameters: {'svm_C': 0.7924510686948161, 'Kernel': 'rbf'}. Best is trial 0 with value: 1.0.\n",
      "[I 2023-11-22 15:10:55,848] Trial 68 finished with value: 1.0 and parameters: {'svm_C': 1429.927920096638, 'Kernel': 'linear'}. Best is trial 0 with value: 1.0.\n",
      "[I 2023-11-22 15:10:55,862] Trial 69 finished with value: 1.0 and parameters: {'svm_C': 58.053284202351, 'Kernel': 'poly'}. Best is trial 0 with value: 1.0.\n",
      "[I 2023-11-22 15:10:55,875] Trial 70 finished with value: 1.0 and parameters: {'svm_C': 97323.04893227715, 'Kernel': 'linear'}. Best is trial 0 with value: 1.0.\n",
      "[I 2023-11-22 15:10:55,888] Trial 71 finished with value: 0.985 and parameters: {'svm_C': 4.572682886824856, 'Kernel': 'poly'}. Best is trial 0 with value: 1.0.\n",
      "[I 2023-11-22 15:10:55,903] Trial 72 finished with value: 1.0 and parameters: {'svm_C': 18.277931946690938, 'Kernel': 'poly'}. Best is trial 0 with value: 1.0.\n",
      "[I 2023-11-22 15:10:55,918] Trial 73 finished with value: 1.0 and parameters: {'svm_C': 390.5341096177367, 'Kernel': 'poly'}. Best is trial 0 with value: 1.0.\n",
      "[I 2023-11-22 15:10:55,932] Trial 74 finished with value: 1.0 and parameters: {'svm_C': 111.24423272401702, 'Kernel': 'poly'}. Best is trial 0 with value: 1.0.\n",
      "[I 2023-11-22 15:10:55,959] Trial 75 finished with value: 0.31 and parameters: {'svm_C': 11757.598223220055, 'Kernel': 'sigmoid'}. Best is trial 0 with value: 1.0.\n",
      "[I 2023-11-22 15:10:55,971] Trial 76 finished with value: 1.0 and parameters: {'svm_C': 2.1645143250370635, 'Kernel': 'linear'}. Best is trial 0 with value: 1.0.\n",
      "[I 2023-11-22 15:10:55,983] Trial 77 finished with value: 1.0 and parameters: {'svm_C': 12.132506320951851, 'Kernel': 'linear'}. Best is trial 0 with value: 1.0.\n",
      "[I 2023-11-22 15:10:55,997] Trial 78 finished with value: 1.0 and parameters: {'svm_C': 576.5181997543958, 'Kernel': 'poly'}. Best is trial 0 with value: 1.0.\n",
      "[I 2023-11-22 15:10:56,010] Trial 79 finished with value: 1.0 and parameters: {'svm_C': 3573.122614108432, 'Kernel': 'linear'}. Best is trial 0 with value: 1.0.\n",
      "[I 2023-11-22 15:10:56,031] Trial 80 finished with value: 0.96 and parameters: {'svm_C': 0.46990007624250957, 'Kernel': 'rbf'}. Best is trial 0 with value: 1.0.\n",
      "[I 2023-11-22 15:10:56,043] Trial 81 finished with value: 1.0 and parameters: {'svm_C': 28692.300392658584, 'Kernel': 'linear'}. Best is trial 0 with value: 1.0.\n",
      "[I 2023-11-22 15:10:56,055] Trial 82 finished with value: 1.0 and parameters: {'svm_C': 9372.214182867781, 'Kernel': 'linear'}. Best is trial 0 with value: 1.0.\n",
      "[I 2023-11-22 15:10:56,068] Trial 83 finished with value: 1.0 and parameters: {'svm_C': 35347.37548020195, 'Kernel': 'linear'}. Best is trial 0 with value: 1.0.\n",
      "[I 2023-11-22 15:10:56,080] Trial 84 finished with value: 1.0 and parameters: {'svm_C': 1361.2752244885644, 'Kernel': 'linear'}. Best is trial 0 with value: 1.0.\n",
      "[I 2023-11-22 15:10:56,095] Trial 85 finished with value: 1.0 and parameters: {'svm_C': 73.8236239205109, 'Kernel': 'linear'}. Best is trial 0 with value: 1.0.\n",
      "[I 2023-11-22 15:10:56,109] Trial 86 finished with value: 1.0 and parameters: {'svm_C': 223.46186939709972, 'Kernel': 'poly'}. Best is trial 0 with value: 1.0.\n",
      "[I 2023-11-22 15:10:56,121] Trial 87 finished with value: 1.0 and parameters: {'svm_C': 2718.066786604649, 'Kernel': 'linear'}. Best is trial 0 with value: 1.0.\n",
      "[I 2023-11-22 15:10:56,147] Trial 88 finished with value: 0.31 and parameters: {'svm_C': 10969.29737814707, 'Kernel': 'sigmoid'}. Best is trial 0 with value: 1.0.\n",
      "[I 2023-11-22 15:10:56,162] Trial 89 finished with value: 1.0 and parameters: {'svm_C': 41236.77228426742, 'Kernel': 'poly'}. Best is trial 0 with value: 1.0.\n",
      "[I 2023-11-22 15:10:56,176] Trial 90 finished with value: 1.0 and parameters: {'svm_C': 5664.42708463873, 'Kernel': 'linear'}. Best is trial 0 with value: 1.0.\n",
      "[I 2023-11-22 15:10:56,189] Trial 91 finished with value: 1.0 and parameters: {'svm_C': 0.08611603315165672, 'Kernel': 'linear'}. Best is trial 0 with value: 1.0.\n",
      "[I 2023-11-22 15:10:56,202] Trial 92 finished with value: 1.0 and parameters: {'svm_C': 0.03237989198567371, 'Kernel': 'linear'}. Best is trial 0 with value: 1.0.\n",
      "[I 2023-11-22 15:10:56,216] Trial 93 finished with value: 1.0 and parameters: {'svm_C': 5.346907250500361, 'Kernel': 'linear'}. Best is trial 0 with value: 1.0.\n",
      "[I 2023-11-22 15:10:56,230] Trial 94 finished with value: 1.0 and parameters: {'svm_C': 0.8416918941445087, 'Kernel': 'linear'}. Best is trial 0 with value: 1.0.\n",
      "[I 2023-11-22 15:10:56,243] Trial 95 finished with value: 1.0 and parameters: {'svm_C': 1.996830581370692, 'Kernel': 'linear'}. Best is trial 0 with value: 1.0.\n",
      "[I 2023-11-22 15:10:56,257] Trial 96 finished with value: 1.0 and parameters: {'svm_C': 713.8797894947746, 'Kernel': 'poly'}. Best is trial 0 with value: 1.0.\n",
      "[I 2023-11-22 15:10:56,270] Trial 97 finished with value: 1.0 and parameters: {'svm_C': 33.6114895853398, 'Kernel': 'linear'}. Best is trial 0 with value: 1.0.\n",
      "[I 2023-11-22 15:10:56,282] Trial 98 finished with value: 1.0 and parameters: {'svm_C': 0.38278756288095883, 'Kernel': 'linear'}. Best is trial 0 with value: 1.0.\n",
      "[I 2023-11-22 15:10:56,308] Trial 99 finished with value: 0.93 and parameters: {'svm_C': 0.2105685216715275, 'Kernel': 'rbf'}. Best is trial 0 with value: 1.0.\n"
     ]
    }
   ],
   "source": [
    "def objectiveSVM(trial):\n",
    "    svm_C=trial.suggest_float('svm_C',1e-10,1e5,log=True)\n",
    "    krn=trial.suggest_categorical('Kernel',['linear','poly','rbf','sigmoid'])\n",
    "\n",
    "    #entrenamiento\n",
    "    mvs=svm.SVC(C=svm_C,kernel=krn)\n",
    "    mvs.fit(X_train,y_train)\n",
    " \n",
    "    #prediccion\n",
    "    y_pred = mvs.predict(X_test)\n",
    "\n",
    "    #metrica\n",
    "    f1=metrics.f1_score(y_test,y_pred,average='micro')\n",
    "    return f1\n",
    "\n",
    "studySVM = optuna.create_study(direction='maximize')\n",
    "studySVM.optimize(objectiveSVM, n_trials=100)"
   ]
  },
  {
   "cell_type": "markdown",
   "metadata": {},
   "source": [
    "Mejores Parametros"
   ]
  },
  {
   "cell_type": "code",
   "execution_count": 232,
   "metadata": {},
   "outputs": [
    {
     "name": "stdout",
     "output_type": "stream",
     "text": [
      "{'svm_C': 0.3904723275730225, 'Kernel': 'linear'}\n"
     ]
    }
   ],
   "source": [
    "print(studySVM.best_params)"
   ]
  },
  {
   "cell_type": "markdown",
   "metadata": {},
   "source": [
    "Validación"
   ]
  },
  {
   "cell_type": "code",
   "execution_count": 224,
   "metadata": {},
   "outputs": [
    {
     "name": "stdout",
     "output_type": "stream",
     "text": [
      "              precision    recall  f1-score   support\n",
      "\n",
      "         Low       1.00      1.00      1.00        63\n",
      "      Medium       1.00      1.00      1.00        72\n",
      "        High       1.00      1.00      1.00        65\n",
      "\n",
      "    accuracy                           1.00       200\n",
      "   macro avg       1.00      1.00      1.00       200\n",
      "weighted avg       1.00      1.00      1.00       200\n",
      "\n"
     ]
    },
    {
     "data": {
      "text/plain": [
       "<sklearn.metrics._plot.confusion_matrix.ConfusionMatrixDisplay at 0x277e92183a0>"
      ]
     },
     "execution_count": 224,
     "metadata": {},
     "output_type": "execute_result"
    },
    {
     "data": {
      "image/png": "[encoded data removed]",
      "text/plain": [
       "<Figure size 640x480 with 2 Axes>"
      ]
     },
     "metadata": {},
     "output_type": "display_data"
    }
   ],
   "source": [
    "CBest=studySVM.best_params['svm_C']\n",
    "krn=studySVM.best_params['Kernel']\n",
    "\n",
    "mvs=svm.SVC(C=CBest,kernel=krn)\n",
    "mvs.fit(X_train,y_train)\n",
    "\n",
    "#prediccion\n",
    "y_pred = mvs.predict(X_val)\n",
    "\n",
    "#metricas\n",
    "print(metrics.classification_report(y_val,y_pred,target_names=['Low','Medium','High']))\n",
    "\n",
    "cm=metrics.confusion_matrix(y_val,y_pred)\n",
    "disp=metrics.ConfusionMatrixDisplay(cm,display_labels=['Low','Medium','High'])\n",
    "disp.plot()"
   ]
  },
  {
   "cell_type": "markdown",
   "metadata": {},
   "source": [
    "Ahora probamos con un arbol de decisión"
   ]
  },
  {
   "cell_type": "code",
   "execution_count": 225,
   "metadata": {},
   "outputs": [
    {
     "name": "stderr",
     "output_type": "stream",
     "text": [
      "[I 2023-11-22 15:10:56,502] A new study created in memory with name: no-name-5a864e21-2569-4997-96e7-d30f9ce1a020\n",
      "[I 2023-11-22 15:10:56,509] Trial 0 finished with value: 0.985 and parameters: {'Criterion': 'gini', 'Splitter': 'random', 'Max_depth': 4}. Best is trial 0 with value: 0.985.\n",
      "[I 2023-11-22 15:10:56,514] Trial 1 finished with value: 1.0 and parameters: {'Criterion': 'log_loss', 'Splitter': 'random', 'Max_depth': 8}. Best is trial 1 with value: 1.0.\n",
      "[I 2023-11-22 15:10:56,520] Trial 2 finished with value: 1.0 and parameters: {'Criterion': 'log_loss', 'Splitter': 'random', 'Max_depth': 9}. Best is trial 1 with value: 1.0.\n",
      "[I 2023-11-22 15:10:56,525] Trial 3 finished with value: 1.0 and parameters: {'Criterion': 'gini', 'Splitter': 'best', 'Max_depth': 10}. Best is trial 1 with value: 1.0.\n",
      "[I 2023-11-22 15:10:56,531] Trial 4 finished with value: 0.99 and parameters: {'Criterion': 'gini', 'Splitter': 'best', 'Max_depth': 4}. Best is trial 1 with value: 1.0.\n",
      "[I 2023-11-22 15:10:56,538] Trial 5 finished with value: 1.0 and parameters: {'Criterion': 'gini', 'Splitter': 'best', 'Max_depth': 10}. Best is trial 1 with value: 1.0.\n",
      "[I 2023-11-22 15:10:56,542] Trial 6 finished with value: 0.615 and parameters: {'Criterion': 'gini', 'Splitter': 'best', 'Max_depth': 1}. Best is trial 1 with value: 1.0.\n",
      "[I 2023-11-22 15:10:56,548] Trial 7 finished with value: 0.83 and parameters: {'Criterion': 'entropy', 'Splitter': 'random', 'Max_depth': 3}. Best is trial 1 with value: 1.0.\n",
      "[I 2023-11-22 15:10:56,553] Trial 8 finished with value: 0.99 and parameters: {'Criterion': 'entropy', 'Splitter': 'best', 'Max_depth': 4}. Best is trial 1 with value: 1.0.\n",
      "[I 2023-11-22 15:10:56,558] Trial 9 finished with value: 0.615 and parameters: {'Criterion': 'log_loss', 'Splitter': 'best', 'Max_depth': 1}. Best is trial 1 with value: 1.0.\n",
      "[I 2023-11-22 15:10:56,568] Trial 10 finished with value: 1.0 and parameters: {'Criterion': 'log_loss', 'Splitter': 'random', 'Max_depth': 7}. Best is trial 1 with value: 1.0.\n",
      "[I 2023-11-22 15:10:56,577] Trial 11 finished with value: 1.0 and parameters: {'Criterion': 'log_loss', 'Splitter': 'random', 'Max_depth': 7}. Best is trial 1 with value: 1.0.\n",
      "[I 2023-11-22 15:10:56,587] Trial 12 finished with value: 1.0 and parameters: {'Criterion': 'log_loss', 'Splitter': 'random', 'Max_depth': 8}. Best is trial 1 with value: 1.0.\n",
      "[I 2023-11-22 15:10:56,597] Trial 13 finished with value: 1.0 and parameters: {'Criterion': 'log_loss', 'Splitter': 'random', 'Max_depth': 8}. Best is trial 1 with value: 1.0.\n",
      "[I 2023-11-22 15:10:56,607] Trial 14 finished with value: 1.0 and parameters: {'Criterion': 'log_loss', 'Splitter': 'random', 'Max_depth': 9}. Best is trial 1 with value: 1.0.\n",
      "[I 2023-11-22 15:10:56,617] Trial 15 finished with value: 1.0 and parameters: {'Criterion': 'log_loss', 'Splitter': 'random', 'Max_depth': 6}. Best is trial 1 with value: 1.0.\n",
      "[I 2023-11-22 15:10:56,626] Trial 16 finished with value: 1.0 and parameters: {'Criterion': 'log_loss', 'Splitter': 'random', 'Max_depth': 9}. Best is trial 1 with value: 1.0.\n",
      "[I 2023-11-22 15:10:56,636] Trial 17 finished with value: 1.0 and parameters: {'Criterion': 'entropy', 'Splitter': 'random', 'Max_depth': 7}. Best is trial 1 with value: 1.0.\n",
      "[I 2023-11-22 15:10:56,646] Trial 18 finished with value: 1.0 and parameters: {'Criterion': 'log_loss', 'Splitter': 'random', 'Max_depth': 9}. Best is trial 1 with value: 1.0.\n",
      "[I 2023-11-22 15:10:56,656] Trial 19 finished with value: 0.98 and parameters: {'Criterion': 'log_loss', 'Splitter': 'random', 'Max_depth': 6}. Best is trial 1 with value: 1.0.\n",
      "[I 2023-11-22 15:10:56,665] Trial 20 finished with value: 1.0 and parameters: {'Criterion': 'entropy', 'Splitter': 'random', 'Max_depth': 8}. Best is trial 1 with value: 1.0.\n",
      "[I 2023-11-22 15:10:56,675] Trial 21 finished with value: 1.0 and parameters: {'Criterion': 'gini', 'Splitter': 'best', 'Max_depth': 10}. Best is trial 1 with value: 1.0.\n",
      "[I 2023-11-22 15:10:56,685] Trial 22 finished with value: 1.0 and parameters: {'Criterion': 'gini', 'Splitter': 'best', 'Max_depth': 10}. Best is trial 1 with value: 1.0.\n",
      "[I 2023-11-22 15:10:56,695] Trial 23 finished with value: 1.0 and parameters: {'Criterion': 'gini', 'Splitter': 'best', 'Max_depth': 9}. Best is trial 1 with value: 1.0.\n",
      "[I 2023-11-22 15:10:56,705] Trial 24 finished with value: 1.0 and parameters: {'Criterion': 'log_loss', 'Splitter': 'best', 'Max_depth': 10}. Best is trial 1 with value: 1.0.\n",
      "[I 2023-11-22 15:10:56,715] Trial 25 finished with value: 1.0 and parameters: {'Criterion': 'gini', 'Splitter': 'random', 'Max_depth': 8}. Best is trial 1 with value: 1.0.\n",
      "[I 2023-11-22 15:10:56,726] Trial 26 finished with value: 1.0 and parameters: {'Criterion': 'log_loss', 'Splitter': 'best', 'Max_depth': 9}. Best is trial 1 with value: 1.0.\n",
      "[I 2023-11-22 15:10:56,737] Trial 27 finished with value: 1.0 and parameters: {'Criterion': 'log_loss', 'Splitter': 'random', 'Max_depth': 10}. Best is trial 1 with value: 1.0.\n",
      "[I 2023-11-22 15:10:56,748] Trial 28 finished with value: 1.0 and parameters: {'Criterion': 'entropy', 'Splitter': 'best', 'Max_depth': 7}. Best is trial 1 with value: 1.0.\n",
      "[I 2023-11-22 15:10:56,759] Trial 29 finished with value: 0.99 and parameters: {'Criterion': 'gini', 'Splitter': 'random', 'Max_depth': 5}. Best is trial 1 with value: 1.0.\n",
      "[I 2023-11-22 15:10:56,770] Trial 30 finished with value: 1.0 and parameters: {'Criterion': 'gini', 'Splitter': 'random', 'Max_depth': 8}. Best is trial 1 with value: 1.0.\n",
      "[I 2023-11-22 15:10:56,782] Trial 31 finished with value: 1.0 and parameters: {'Criterion': 'gini', 'Splitter': 'best', 'Max_depth': 10}. Best is trial 1 with value: 1.0.\n",
      "[I 2023-11-22 15:10:56,793] Trial 32 finished with value: 1.0 and parameters: {'Criterion': 'gini', 'Splitter': 'best', 'Max_depth': 9}. Best is trial 1 with value: 1.0.\n",
      "[I 2023-11-22 15:10:56,805] Trial 33 finished with value: 1.0 and parameters: {'Criterion': 'gini', 'Splitter': 'best', 'Max_depth': 10}. Best is trial 1 with value: 1.0.\n",
      "[I 2023-11-22 15:10:56,817] Trial 34 finished with value: 1.0 and parameters: {'Criterion': 'gini', 'Splitter': 'best', 'Max_depth': 9}. Best is trial 1 with value: 1.0.\n",
      "[I 2023-11-22 15:10:56,830] Trial 35 finished with value: 1.0 and parameters: {'Criterion': 'gini', 'Splitter': 'best', 'Max_depth': 10}. Best is trial 1 with value: 1.0.\n",
      "[I 2023-11-22 15:10:56,842] Trial 36 finished with value: 0.885 and parameters: {'Criterion': 'gini', 'Splitter': 'best', 'Max_depth': 2}. Best is trial 1 with value: 1.0.\n",
      "[I 2023-11-22 15:10:56,854] Trial 37 finished with value: 1.0 and parameters: {'Criterion': 'entropy', 'Splitter': 'best', 'Max_depth': 8}. Best is trial 1 with value: 1.0.\n",
      "[I 2023-11-22 15:10:56,865] Trial 38 finished with value: 1.0 and parameters: {'Criterion': 'log_loss', 'Splitter': 'best', 'Max_depth': 5}. Best is trial 1 with value: 1.0.\n",
      "[I 2023-11-22 15:10:56,876] Trial 39 finished with value: 1.0 and parameters: {'Criterion': 'gini', 'Splitter': 'random', 'Max_depth': 9}. Best is trial 1 with value: 1.0.\n",
      "[I 2023-11-22 15:10:56,886] Trial 40 finished with value: 0.955 and parameters: {'Criterion': 'log_loss', 'Splitter': 'best', 'Max_depth': 3}. Best is trial 1 with value: 1.0.\n",
      "[I 2023-11-22 15:10:56,897] Trial 41 finished with value: 1.0 and parameters: {'Criterion': 'log_loss', 'Splitter': 'random', 'Max_depth': 7}. Best is trial 1 with value: 1.0.\n",
      "[I 2023-11-22 15:10:56,913] Trial 42 finished with value: 1.0 and parameters: {'Criterion': 'log_loss', 'Splitter': 'random', 'Max_depth': 7}. Best is trial 1 with value: 1.0.\n",
      "[I 2023-11-22 15:10:56,928] Trial 43 finished with value: 1.0 and parameters: {'Criterion': 'log_loss', 'Splitter': 'random', 'Max_depth': 8}. Best is trial 1 with value: 1.0.\n",
      "[I 2023-11-22 15:10:56,940] Trial 44 finished with value: 1.0 and parameters: {'Criterion': 'log_loss', 'Splitter': 'random', 'Max_depth': 6}. Best is trial 1 with value: 1.0.\n",
      "[I 2023-11-22 15:10:56,952] Trial 45 finished with value: 0.99 and parameters: {'Criterion': 'log_loss', 'Splitter': 'random', 'Max_depth': 8}. Best is trial 1 with value: 1.0.\n",
      "[I 2023-11-22 15:10:56,964] Trial 46 finished with value: 1.0 and parameters: {'Criterion': 'log_loss', 'Splitter': 'random', 'Max_depth': 9}. Best is trial 1 with value: 1.0.\n",
      "[I 2023-11-22 15:10:56,976] Trial 47 finished with value: 1.0 and parameters: {'Criterion': 'entropy', 'Splitter': 'random', 'Max_depth': 10}. Best is trial 1 with value: 1.0.\n",
      "[I 2023-11-22 15:10:56,988] Trial 48 finished with value: 1.0 and parameters: {'Criterion': 'log_loss', 'Splitter': 'random', 'Max_depth': 7}. Best is trial 1 with value: 1.0.\n",
      "[I 2023-11-22 15:10:56,999] Trial 49 finished with value: 1.0 and parameters: {'Criterion': 'log_loss', 'Splitter': 'random', 'Max_depth': 6}. Best is trial 1 with value: 1.0.\n",
      "[I 2023-11-22 15:10:57,011] Trial 50 finished with value: 1.0 and parameters: {'Criterion': 'gini', 'Splitter': 'random', 'Max_depth': 9}. Best is trial 1 with value: 1.0.\n",
      "[I 2023-11-22 15:10:57,023] Trial 51 finished with value: 1.0 and parameters: {'Criterion': 'log_loss', 'Splitter': 'random', 'Max_depth': 7}. Best is trial 1 with value: 1.0.\n",
      "[I 2023-11-22 15:10:57,034] Trial 52 finished with value: 1.0 and parameters: {'Criterion': 'log_loss', 'Splitter': 'random', 'Max_depth': 7}. Best is trial 1 with value: 1.0.\n",
      "[I 2023-11-22 15:10:57,047] Trial 53 finished with value: 1.0 and parameters: {'Criterion': 'log_loss', 'Splitter': 'random', 'Max_depth': 9}. Best is trial 1 with value: 1.0.\n",
      "[I 2023-11-22 15:10:57,058] Trial 54 finished with value: 1.0 and parameters: {'Criterion': 'log_loss', 'Splitter': 'random', 'Max_depth': 8}. Best is trial 1 with value: 1.0.\n",
      "[I 2023-11-22 15:10:57,069] Trial 55 finished with value: 1.0 and parameters: {'Criterion': 'log_loss', 'Splitter': 'random', 'Max_depth': 8}. Best is trial 1 with value: 1.0.\n",
      "[I 2023-11-22 15:10:57,080] Trial 56 finished with value: 1.0 and parameters: {'Criterion': 'log_loss', 'Splitter': 'best', 'Max_depth': 6}. Best is trial 1 with value: 1.0.\n",
      "[I 2023-11-22 15:10:57,092] Trial 57 finished with value: 1.0 and parameters: {'Criterion': 'entropy', 'Splitter': 'random', 'Max_depth': 10}. Best is trial 1 with value: 1.0.\n",
      "[I 2023-11-22 15:10:57,104] Trial 58 finished with value: 1.0 and parameters: {'Criterion': 'gini', 'Splitter': 'best', 'Max_depth': 5}. Best is trial 1 with value: 1.0.\n",
      "[I 2023-11-22 15:10:57,115] Trial 59 finished with value: 1.0 and parameters: {'Criterion': 'log_loss', 'Splitter': 'random', 'Max_depth': 9}. Best is trial 1 with value: 1.0.\n",
      "[I 2023-11-22 15:10:57,126] Trial 60 finished with value: 1.0 and parameters: {'Criterion': 'gini', 'Splitter': 'best', 'Max_depth': 10}. Best is trial 1 with value: 1.0.\n",
      "[I 2023-11-22 15:10:57,137] Trial 61 finished with value: 1.0 and parameters: {'Criterion': 'log_loss', 'Splitter': 'random', 'Max_depth': 8}. Best is trial 1 with value: 1.0.\n",
      "[I 2023-11-22 15:10:57,147] Trial 62 finished with value: 1.0 and parameters: {'Criterion': 'log_loss', 'Splitter': 'random', 'Max_depth': 7}. Best is trial 1 with value: 1.0.\n",
      "[I 2023-11-22 15:10:57,158] Trial 63 finished with value: 1.0 and parameters: {'Criterion': 'log_loss', 'Splitter': 'random', 'Max_depth': 8}. Best is trial 1 with value: 1.0.\n",
      "[I 2023-11-22 15:10:57,171] Trial 64 finished with value: 1.0 and parameters: {'Criterion': 'log_loss', 'Splitter': 'random', 'Max_depth': 9}. Best is trial 1 with value: 1.0.\n",
      "[I 2023-11-22 15:10:57,182] Trial 65 finished with value: 1.0 and parameters: {'Criterion': 'log_loss', 'Splitter': 'random', 'Max_depth': 9}. Best is trial 1 with value: 1.0.\n",
      "[I 2023-11-22 15:10:57,194] Trial 66 finished with value: 1.0 and parameters: {'Criterion': 'gini', 'Splitter': 'best', 'Max_depth': 10}. Best is trial 1 with value: 1.0.\n",
      "[I 2023-11-22 15:10:57,206] Trial 67 finished with value: 1.0 and parameters: {'Criterion': 'entropy', 'Splitter': 'random', 'Max_depth': 8}. Best is trial 1 with value: 1.0.\n",
      "[I 2023-11-22 15:10:57,219] Trial 68 finished with value: 1.0 and parameters: {'Criterion': 'gini', 'Splitter': 'best', 'Max_depth': 7}. Best is trial 1 with value: 1.0.\n",
      "[I 2023-11-22 15:10:57,230] Trial 69 finished with value: 1.0 and parameters: {'Criterion': 'log_loss', 'Splitter': 'random', 'Max_depth': 10}. Best is trial 1 with value: 1.0.\n",
      "[I 2023-11-22 15:10:57,243] Trial 70 finished with value: 1.0 and parameters: {'Criterion': 'log_loss', 'Splitter': 'best', 'Max_depth': 9}. Best is trial 1 with value: 1.0.\n",
      "[I 2023-11-22 15:10:57,254] Trial 71 finished with value: 1.0 and parameters: {'Criterion': 'log_loss', 'Splitter': 'random', 'Max_depth': 8}. Best is trial 1 with value: 1.0.\n",
      "[I 2023-11-22 15:10:57,267] Trial 72 finished with value: 0.98 and parameters: {'Criterion': 'log_loss', 'Splitter': 'random', 'Max_depth': 8}. Best is trial 1 with value: 1.0.\n",
      "[I 2023-11-22 15:10:57,279] Trial 73 finished with value: 1.0 and parameters: {'Criterion': 'log_loss', 'Splitter': 'random', 'Max_depth': 7}. Best is trial 1 with value: 1.0.\n",
      "[I 2023-11-22 15:10:57,290] Trial 74 finished with value: 1.0 and parameters: {'Criterion': 'gini', 'Splitter': 'random', 'Max_depth': 9}. Best is trial 1 with value: 1.0.\n",
      "[I 2023-11-22 15:10:57,303] Trial 75 finished with value: 0.99 and parameters: {'Criterion': 'log_loss', 'Splitter': 'random', 'Max_depth': 6}. Best is trial 1 with value: 1.0.\n",
      "[I 2023-11-22 15:10:57,315] Trial 76 finished with value: 1.0 and parameters: {'Criterion': 'log_loss', 'Splitter': 'random', 'Max_depth': 8}. Best is trial 1 with value: 1.0.\n",
      "[I 2023-11-22 15:10:57,327] Trial 77 finished with value: 1.0 and parameters: {'Criterion': 'gini', 'Splitter': 'best', 'Max_depth': 10}. Best is trial 1 with value: 1.0.\n",
      "[I 2023-11-22 15:10:57,339] Trial 78 finished with value: 1.0 and parameters: {'Criterion': 'log_loss', 'Splitter': 'random', 'Max_depth': 9}. Best is trial 1 with value: 1.0.\n",
      "[I 2023-11-22 15:10:57,350] Trial 79 finished with value: 1.0 and parameters: {'Criterion': 'entropy', 'Splitter': 'random', 'Max_depth': 8}. Best is trial 1 with value: 1.0.\n",
      "[I 2023-11-22 15:10:57,362] Trial 80 finished with value: 1.0 and parameters: {'Criterion': 'log_loss', 'Splitter': 'best', 'Max_depth': 7}. Best is trial 1 with value: 1.0.\n",
      "[I 2023-11-22 15:10:57,373] Trial 81 finished with value: 0.59 and parameters: {'Criterion': 'log_loss', 'Splitter': 'random', 'Max_depth': 1}. Best is trial 1 with value: 1.0.\n",
      "[I 2023-11-22 15:10:57,385] Trial 82 finished with value: 1.0 and parameters: {'Criterion': 'log_loss', 'Splitter': 'random', 'Max_depth': 9}. Best is trial 1 with value: 1.0.\n",
      "[I 2023-11-22 15:10:57,396] Trial 83 finished with value: 1.0 and parameters: {'Criterion': 'log_loss', 'Splitter': 'random', 'Max_depth': 10}. Best is trial 1 with value: 1.0.\n",
      "[I 2023-11-22 15:10:57,407] Trial 84 finished with value: 1.0 and parameters: {'Criterion': 'log_loss', 'Splitter': 'random', 'Max_depth': 9}. Best is trial 1 with value: 1.0.\n",
      "[I 2023-11-22 15:10:57,418] Trial 85 finished with value: 1.0 and parameters: {'Criterion': 'gini', 'Splitter': 'random', 'Max_depth': 8}. Best is trial 1 with value: 1.0.\n",
      "[I 2023-11-22 15:10:57,430] Trial 86 finished with value: 1.0 and parameters: {'Criterion': 'log_loss', 'Splitter': 'random', 'Max_depth': 10}. Best is trial 1 with value: 1.0.\n",
      "[I 2023-11-22 15:10:57,441] Trial 87 finished with value: 1.0 and parameters: {'Criterion': 'log_loss', 'Splitter': 'best', 'Max_depth': 7}. Best is trial 1 with value: 1.0.\n",
      "[I 2023-11-22 15:10:57,452] Trial 88 finished with value: 0.94 and parameters: {'Criterion': 'gini', 'Splitter': 'random', 'Max_depth': 4}. Best is trial 1 with value: 1.0.\n",
      "[I 2023-11-22 15:10:57,463] Trial 89 finished with value: 1.0 and parameters: {'Criterion': 'log_loss', 'Splitter': 'random', 'Max_depth': 9}. Best is trial 1 with value: 1.0.\n",
      "[I 2023-11-22 15:10:57,474] Trial 90 finished with value: 1.0 and parameters: {'Criterion': 'log_loss', 'Splitter': 'best', 'Max_depth': 6}. Best is trial 1 with value: 1.0.\n",
      "[I 2023-11-22 15:10:57,485] Trial 91 finished with value: 0.995 and parameters: {'Criterion': 'log_loss', 'Splitter': 'random', 'Max_depth': 5}. Best is trial 1 with value: 1.0.\n",
      "[I 2023-11-22 15:10:57,496] Trial 92 finished with value: 0.9500000000000001 and parameters: {'Criterion': 'log_loss', 'Splitter': 'random', 'Max_depth': 6}. Best is trial 1 with value: 1.0.\n",
      "[I 2023-11-22 15:10:57,508] Trial 93 finished with value: 1.0 and parameters: {'Criterion': 'log_loss', 'Splitter': 'random', 'Max_depth': 7}. Best is trial 1 with value: 1.0.\n",
      "[I 2023-11-22 15:10:57,519] Trial 94 finished with value: 1.0 and parameters: {'Criterion': 'log_loss', 'Splitter': 'random', 'Max_depth': 6}. Best is trial 1 with value: 1.0.\n",
      "[I 2023-11-22 15:10:57,530] Trial 95 finished with value: 1.0 and parameters: {'Criterion': 'gini', 'Splitter': 'random', 'Max_depth': 7}. Best is trial 1 with value: 1.0.\n",
      "[I 2023-11-22 15:10:57,541] Trial 96 finished with value: 1.0 and parameters: {'Criterion': 'log_loss', 'Splitter': 'random', 'Max_depth': 8}. Best is trial 1 with value: 1.0.\n",
      "[I 2023-11-22 15:10:57,552] Trial 97 finished with value: 1.0 and parameters: {'Criterion': 'entropy', 'Splitter': 'random', 'Max_depth': 10}. Best is trial 1 with value: 1.0.\n",
      "[I 2023-11-22 15:10:57,564] Trial 98 finished with value: 1.0 and parameters: {'Criterion': 'log_loss', 'Splitter': 'best', 'Max_depth': 8}. Best is trial 1 with value: 1.0.\n",
      "[I 2023-11-22 15:10:57,575] Trial 99 finished with value: 1.0 and parameters: {'Criterion': 'log_loss', 'Splitter': 'random', 'Max_depth': 7}. Best is trial 1 with value: 1.0.\n"
     ]
    }
   ],
   "source": [
    "def objectiveDT(trial):\n",
    "    crit=trial.suggest_categorical('Criterion',['gini', 'entropy', 'log_loss'])\n",
    "    split=trial.suggest_categorical('Splitter',['best','random'])\n",
    "    depth=trial.suggest_int('Max_depth',1,10)\n",
    "\n",
    "    #entrenamiento\n",
    "    DT=tree.DecisionTreeClassifier(criterion=crit,splitter=split,max_depth=depth)\n",
    "    DT.fit(X_train,y_train)\n",
    " \n",
    "    #prediccion\n",
    "    y_pred = DT.predict(X_test)\n",
    "\n",
    "    #metrica\n",
    "    f1=metrics.f1_score(y_test,y_pred,average='micro')\n",
    "    return f1\n",
    "\n",
    "studyDT = optuna.create_study(direction='maximize')\n",
    "studyDT.optimize(objectiveDT, n_trials=100)"
   ]
  },
  {
   "cell_type": "markdown",
   "metadata": {},
   "source": [
    "Mejores parametros"
   ]
  },
  {
   "cell_type": "code",
   "execution_count": 226,
   "metadata": {},
   "outputs": [
    {
     "name": "stdout",
     "output_type": "stream",
     "text": [
      "{'Criterion': 'log_loss', 'Splitter': 'random', 'Max_depth': 8}\n"
     ]
    }
   ],
   "source": [
    "print(studyDT.best_params)"
   ]
  },
  {
   "cell_type": "markdown",
   "metadata": {},
   "source": [
    "Validación"
   ]
  },
  {
   "cell_type": "code",
   "execution_count": 227,
   "metadata": {},
   "outputs": [
    {
     "name": "stdout",
     "output_type": "stream",
     "text": [
      "              precision    recall  f1-score   support\n",
      "\n",
      "         Low       1.00      1.00      1.00        63\n",
      "      Medium       1.00      1.00      1.00        72\n",
      "        High       1.00      1.00      1.00        65\n",
      "\n",
      "    accuracy                           1.00       200\n",
      "   macro avg       1.00      1.00      1.00       200\n",
      "weighted avg       1.00      1.00      1.00       200\n",
      "\n"
     ]
    },
    {
     "data": {
      "text/plain": [
       "<sklearn.metrics._plot.confusion_matrix.ConfusionMatrixDisplay at 0x277e4444ac0>"
      ]
     },
     "execution_count": 227,
     "metadata": {},
     "output_type": "execute_result"
    },
    {
     "data": {
      "image/png": "[encoded data removed]",
      "text/plain": [
       "<Figure size 640x480 with 2 Axes>"
      ]
     },
     "metadata": {},
     "output_type": "display_data"
    }
   ],
   "source": [
    "crit=studyDT.best_params['Criterion']\n",
    "split=studyDT.best_params['Splitter']\n",
    "depth=studyDT.best_params['Max_depth']\n",
    "\n",
    "\n",
    "DT=tree.DecisionTreeClassifier(criterion=crit,splitter=split,max_depth=depth)\n",
    "DT.fit(X_train,y_train)\n",
    "\n",
    "#prediccion\n",
    "y_pred = DT.predict(X_val)\n",
    "\n",
    "#metricas\n",
    "print(metrics.classification_report(y_val,y_pred,target_names=['Low','Medium','High']))\n",
    "\n",
    "cm=metrics.confusion_matrix(y_val,y_pred)\n",
    "disp=metrics.ConfusionMatrixDisplay(cm,display_labels=['Low','Medium','High'])\n",
    "disp.plot()"
   ]
  },
  {
   "cell_type": "markdown",
   "metadata": {},
   "source": [
    "Finalmente, probaremos usando KNN"
   ]
  },
  {
   "cell_type": "code",
   "execution_count": 228,
   "metadata": {},
   "outputs": [
    {
     "name": "stderr",
     "output_type": "stream",
     "text": [
      "[I 2023-11-22 15:10:57,758] A new study created in memory with name: no-name-49b05538-b31e-4683-afcc-39709d799410\n",
      "[I 2023-11-22 15:10:57,768] Trial 0 finished with value: 0.975 and parameters: {'K': 8}. Best is trial 0 with value: 0.975.\n",
      "[I 2023-11-22 15:10:57,778] Trial 1 finished with value: 0.97 and parameters: {'K': 9}. Best is trial 0 with value: 0.975.\n",
      "[I 2023-11-22 15:10:57,788] Trial 2 finished with value: 1.0 and parameters: {'K': 6}. Best is trial 2 with value: 1.0.\n",
      "[I 2023-11-22 15:10:57,797] Trial 3 finished with value: 0.94 and parameters: {'K': 17}. Best is trial 2 with value: 1.0.\n",
      "[I 2023-11-22 15:10:57,810] Trial 4 finished with value: 0.94 and parameters: {'K': 14}. Best is trial 2 with value: 1.0.\n",
      "[I 2023-11-22 15:10:57,820] Trial 5 finished with value: 0.975 and parameters: {'K': 7}. Best is trial 2 with value: 1.0.\n",
      "[I 2023-11-22 15:10:57,830] Trial 6 finished with value: 0.94 and parameters: {'K': 17}. Best is trial 2 with value: 1.0.\n",
      "[I 2023-11-22 15:10:57,840] Trial 7 finished with value: 0.93 and parameters: {'K': 23}. Best is trial 2 with value: 1.0.\n",
      "[I 2023-11-22 15:10:57,849] Trial 8 finished with value: 0.94 and parameters: {'K': 11}. Best is trial 2 with value: 1.0.\n",
      "[I 2023-11-22 15:10:57,858] Trial 9 finished with value: 0.93 and parameters: {'K': 18}. Best is trial 2 with value: 1.0.\n",
      "[I 2023-11-22 15:10:57,871] Trial 10 finished with value: 1.0 and parameters: {'K': 1}. Best is trial 2 with value: 1.0.\n",
      "[I 2023-11-22 15:10:57,884] Trial 11 finished with value: 1.0 and parameters: {'K': 2}. Best is trial 2 with value: 1.0.\n",
      "[I 2023-11-22 15:10:57,896] Trial 12 finished with value: 1.0 and parameters: {'K': 1}. Best is trial 2 with value: 1.0.\n",
      "[I 2023-11-22 15:10:57,911] Trial 13 finished with value: 1.0 and parameters: {'K': 4}. Best is trial 2 with value: 1.0.\n",
      "[I 2023-11-22 15:10:57,925] Trial 14 finished with value: 0.895 and parameters: {'K': 30}. Best is trial 2 with value: 1.0.\n",
      "[I 2023-11-22 15:10:57,939] Trial 15 finished with value: 1.0 and parameters: {'K': 5}. Best is trial 2 with value: 1.0.\n",
      "[I 2023-11-22 15:10:57,952] Trial 16 finished with value: 0.945 and parameters: {'K': 12}. Best is trial 2 with value: 1.0.\n",
      "[I 2023-11-22 15:10:57,965] Trial 17 finished with value: 1.0 and parameters: {'K': 1}. Best is trial 2 with value: 1.0.\n",
      "[I 2023-11-22 15:10:57,979] Trial 18 finished with value: 1.0 and parameters: {'K': 5}. Best is trial 2 with value: 1.0.\n",
      "[I 2023-11-22 15:10:57,993] Trial 19 finished with value: 0.93 and parameters: {'K': 23}. Best is trial 2 with value: 1.0.\n",
      "[I 2023-11-22 15:10:58,006] Trial 20 finished with value: 1.0 and parameters: {'K': 4}. Best is trial 2 with value: 1.0.\n",
      "[I 2023-11-22 15:10:58,019] Trial 21 finished with value: 1.0 and parameters: {'K': 1}. Best is trial 2 with value: 1.0.\n",
      "[I 2023-11-22 15:10:58,032] Trial 22 finished with value: 1.0 and parameters: {'K': 3}. Best is trial 2 with value: 1.0.\n",
      "[I 2023-11-22 15:10:58,045] Trial 23 finished with value: 0.975 and parameters: {'K': 7}. Best is trial 2 with value: 1.0.\n",
      "[I 2023-11-22 15:10:58,058] Trial 24 finished with value: 1.0 and parameters: {'K': 2}. Best is trial 2 with value: 1.0.\n",
      "[I 2023-11-22 15:10:58,073] Trial 25 finished with value: 0.9500000000000001 and parameters: {'K': 10}. Best is trial 2 with value: 1.0.\n",
      "[I 2023-11-22 15:10:58,086] Trial 26 finished with value: 1.0 and parameters: {'K': 6}. Best is trial 2 with value: 1.0.\n",
      "[I 2023-11-22 15:10:58,100] Trial 27 finished with value: 0.94 and parameters: {'K': 13}. Best is trial 2 with value: 1.0.\n",
      "[I 2023-11-22 15:10:58,113] Trial 28 finished with value: 1.0 and parameters: {'K': 3}. Best is trial 2 with value: 1.0.\n",
      "[I 2023-11-22 15:10:58,127] Trial 29 finished with value: 0.975 and parameters: {'K': 8}. Best is trial 2 with value: 1.0.\n",
      "[I 2023-11-22 15:10:58,140] Trial 30 finished with value: 0.975 and parameters: {'K': 8}. Best is trial 2 with value: 1.0.\n",
      "[I 2023-11-22 15:10:58,154] Trial 31 finished with value: 1.0 and parameters: {'K': 1}. Best is trial 2 with value: 1.0.\n",
      "[I 2023-11-22 15:10:58,166] Trial 32 finished with value: 1.0 and parameters: {'K': 3}. Best is trial 2 with value: 1.0.\n",
      "[I 2023-11-22 15:10:58,181] Trial 33 finished with value: 1.0 and parameters: {'K': 5}. Best is trial 2 with value: 1.0.\n",
      "[I 2023-11-22 15:10:58,194] Trial 34 finished with value: 1.0 and parameters: {'K': 1}. Best is trial 2 with value: 1.0.\n",
      "[I 2023-11-22 15:10:58,208] Trial 35 finished with value: 1.0 and parameters: {'K': 3}. Best is trial 2 with value: 1.0.\n",
      "[I 2023-11-22 15:10:58,222] Trial 36 finished with value: 0.97 and parameters: {'K': 9}. Best is trial 2 with value: 1.0.\n",
      "[I 2023-11-22 15:10:58,236] Trial 37 finished with value: 0.94 and parameters: {'K': 15}. Best is trial 2 with value: 1.0.\n",
      "[I 2023-11-22 15:10:58,250] Trial 38 finished with value: 1.0 and parameters: {'K': 6}. Best is trial 2 with value: 1.0.\n",
      "[I 2023-11-22 15:10:58,263] Trial 39 finished with value: 0.93 and parameters: {'K': 19}. Best is trial 2 with value: 1.0.\n",
      "[I 2023-11-22 15:10:58,275] Trial 40 finished with value: 1.0 and parameters: {'K': 2}. Best is trial 2 with value: 1.0.\n",
      "[I 2023-11-22 15:10:58,289] Trial 41 finished with value: 1.0 and parameters: {'K': 4}. Best is trial 2 with value: 1.0.\n",
      "[I 2023-11-22 15:10:58,303] Trial 42 finished with value: 1.0 and parameters: {'K': 6}. Best is trial 2 with value: 1.0.\n",
      "[I 2023-11-22 15:10:58,317] Trial 43 finished with value: 1.0 and parameters: {'K': 4}. Best is trial 2 with value: 1.0.\n",
      "[I 2023-11-22 15:10:58,331] Trial 44 finished with value: 1.0 and parameters: {'K': 2}. Best is trial 2 with value: 1.0.\n",
      "[I 2023-11-22 15:10:58,345] Trial 45 finished with value: 0.9500000000000001 and parameters: {'K': 10}. Best is trial 2 with value: 1.0.\n",
      "[I 2023-11-22 15:10:58,360] Trial 46 finished with value: 0.895 and parameters: {'K': 30}. Best is trial 2 with value: 1.0.\n",
      "[I 2023-11-22 15:10:58,373] Trial 47 finished with value: 0.93 and parameters: {'K': 22}. Best is trial 2 with value: 1.0.\n",
      "[I 2023-11-22 15:10:58,387] Trial 48 finished with value: 0.925 and parameters: {'K': 27}. Best is trial 2 with value: 1.0.\n",
      "[I 2023-11-22 15:10:58,401] Trial 49 finished with value: 0.975 and parameters: {'K': 7}. Best is trial 2 with value: 1.0.\n",
      "[I 2023-11-22 15:10:58,416] Trial 50 finished with value: 1.0 and parameters: {'K': 4}. Best is trial 2 with value: 1.0.\n",
      "[I 2023-11-22 15:10:58,430] Trial 51 finished with value: 1.0 and parameters: {'K': 5}. Best is trial 2 with value: 1.0.\n",
      "[I 2023-11-22 15:10:58,443] Trial 52 finished with value: 1.0 and parameters: {'K': 1}. Best is trial 2 with value: 1.0.\n",
      "[I 2023-11-22 15:10:58,458] Trial 53 finished with value: 1.0 and parameters: {'K': 5}. Best is trial 2 with value: 1.0.\n",
      "[I 2023-11-22 15:10:58,472] Trial 54 finished with value: 1.0 and parameters: {'K': 2}. Best is trial 2 with value: 1.0.\n",
      "[I 2023-11-22 15:10:58,485] Trial 55 finished with value: 1.0 and parameters: {'K': 3}. Best is trial 2 with value: 1.0.\n",
      "[I 2023-11-22 15:10:58,500] Trial 56 finished with value: 1.0 and parameters: {'K': 6}. Best is trial 2 with value: 1.0.\n",
      "[I 2023-11-22 15:10:58,514] Trial 57 finished with value: 1.0 and parameters: {'K': 4}. Best is trial 2 with value: 1.0.\n",
      "[I 2023-11-22 15:10:58,528] Trial 58 finished with value: 0.945 and parameters: {'K': 12}. Best is trial 2 with value: 1.0.\n",
      "[I 2023-11-22 15:10:58,543] Trial 59 finished with value: 1.0 and parameters: {'K': 2}. Best is trial 2 with value: 1.0.\n",
      "[I 2023-11-22 15:10:58,557] Trial 60 finished with value: 0.975 and parameters: {'K': 7}. Best is trial 2 with value: 1.0.\n",
      "[I 2023-11-22 15:10:58,570] Trial 61 finished with value: 1.0 and parameters: {'K': 1}. Best is trial 2 with value: 1.0.\n",
      "[I 2023-11-22 15:10:58,586] Trial 62 finished with value: 1.0 and parameters: {'K': 3}. Best is trial 2 with value: 1.0.\n",
      "[I 2023-11-22 15:10:58,601] Trial 63 finished with value: 1.0 and parameters: {'K': 1}. Best is trial 2 with value: 1.0.\n",
      "[I 2023-11-22 15:10:58,617] Trial 64 finished with value: 1.0 and parameters: {'K': 5}. Best is trial 2 with value: 1.0.\n",
      "[I 2023-11-22 15:10:58,632] Trial 65 finished with value: 1.0 and parameters: {'K': 2}. Best is trial 2 with value: 1.0.\n",
      "[I 2023-11-22 15:10:58,648] Trial 66 finished with value: 1.0 and parameters: {'K': 3}. Best is trial 2 with value: 1.0.\n",
      "[I 2023-11-22 15:10:58,664] Trial 67 finished with value: 0.97 and parameters: {'K': 9}. Best is trial 2 with value: 1.0.\n",
      "[I 2023-11-22 15:10:58,679] Trial 68 finished with value: 1.0 and parameters: {'K': 1}. Best is trial 2 with value: 1.0.\n",
      "[I 2023-11-22 15:10:58,695] Trial 69 finished with value: 1.0 and parameters: {'K': 5}. Best is trial 2 with value: 1.0.\n",
      "[I 2023-11-22 15:10:58,710] Trial 70 finished with value: 1.0 and parameters: {'K': 4}. Best is trial 2 with value: 1.0.\n",
      "[I 2023-11-22 15:10:58,728] Trial 71 finished with value: 1.0 and parameters: {'K': 3}. Best is trial 2 with value: 1.0.\n",
      "[I 2023-11-22 15:10:58,750] Trial 72 finished with value: 0.975 and parameters: {'K': 7}. Best is trial 2 with value: 1.0.\n",
      "[I 2023-11-22 15:10:58,769] Trial 73 finished with value: 1.0 and parameters: {'K': 2}. Best is trial 2 with value: 1.0.\n",
      "[I 2023-11-22 15:10:58,784] Trial 74 finished with value: 1.0 and parameters: {'K': 6}. Best is trial 2 with value: 1.0.\n",
      "[I 2023-11-22 15:10:58,800] Trial 75 finished with value: 0.975 and parameters: {'K': 8}. Best is trial 2 with value: 1.0.\n",
      "[I 2023-11-22 15:10:58,815] Trial 76 finished with value: 1.0 and parameters: {'K': 1}. Best is trial 2 with value: 1.0.\n",
      "[I 2023-11-22 15:10:58,829] Trial 77 finished with value: 1.0 and parameters: {'K': 4}. Best is trial 2 with value: 1.0.\n",
      "[I 2023-11-22 15:10:58,845] Trial 78 finished with value: 1.0 and parameters: {'K': 5}. Best is trial 2 with value: 1.0.\n",
      "[I 2023-11-22 15:10:58,858] Trial 79 finished with value: 1.0 and parameters: {'K': 2}. Best is trial 2 with value: 1.0.\n",
      "[I 2023-11-22 15:10:58,873] Trial 80 finished with value: 0.975 and parameters: {'K': 8}. Best is trial 2 with value: 1.0.\n",
      "[I 2023-11-22 15:10:58,887] Trial 81 finished with value: 1.0 and parameters: {'K': 4}. Best is trial 2 with value: 1.0.\n",
      "[I 2023-11-22 15:10:58,901] Trial 82 finished with value: 1.0 and parameters: {'K': 3}. Best is trial 2 with value: 1.0.\n",
      "[I 2023-11-22 15:10:58,915] Trial 83 finished with value: 0.94 and parameters: {'K': 16}. Best is trial 2 with value: 1.0.\n",
      "[I 2023-11-22 15:10:58,930] Trial 84 finished with value: 1.0 and parameters: {'K': 6}. Best is trial 2 with value: 1.0.\n",
      "[I 2023-11-22 15:10:58,945] Trial 85 finished with value: 1.0 and parameters: {'K': 2}. Best is trial 2 with value: 1.0.\n",
      "[I 2023-11-22 15:10:58,959] Trial 86 finished with value: 1.0 and parameters: {'K': 4}. Best is trial 2 with value: 1.0.\n",
      "[I 2023-11-22 15:10:58,975] Trial 87 finished with value: 0.9500000000000001 and parameters: {'K': 10}. Best is trial 2 with value: 1.0.\n",
      "[I 2023-11-22 15:10:58,989] Trial 88 finished with value: 1.0 and parameters: {'K': 1}. Best is trial 2 with value: 1.0.\n",
      "[I 2023-11-22 15:10:59,003] Trial 89 finished with value: 1.0 and parameters: {'K': 3}. Best is trial 2 with value: 1.0.\n",
      "[I 2023-11-22 15:10:59,018] Trial 90 finished with value: 1.0 and parameters: {'K': 5}. Best is trial 2 with value: 1.0.\n",
      "[I 2023-11-22 15:10:59,033] Trial 91 finished with value: 0.93 and parameters: {'K': 20}. Best is trial 2 with value: 1.0.\n",
      "[I 2023-11-22 15:10:59,047] Trial 92 finished with value: 1.0 and parameters: {'K': 2}. Best is trial 2 with value: 1.0.\n",
      "[I 2023-11-22 15:10:59,062] Trial 93 finished with value: 1.0 and parameters: {'K': 1}. Best is trial 2 with value: 1.0.\n",
      "[I 2023-11-22 15:10:59,077] Trial 94 finished with value: 1.0 and parameters: {'K': 3}. Best is trial 2 with value: 1.0.\n",
      "[I 2023-11-22 15:10:59,091] Trial 95 finished with value: 1.0 and parameters: {'K': 2}. Best is trial 2 with value: 1.0.\n",
      "[I 2023-11-22 15:10:59,106] Trial 96 finished with value: 1.0 and parameters: {'K': 6}. Best is trial 2 with value: 1.0.\n",
      "[I 2023-11-22 15:10:59,120] Trial 97 finished with value: 1.0 and parameters: {'K': 4}. Best is trial 2 with value: 1.0.\n",
      "[I 2023-11-22 15:10:59,134] Trial 98 finished with value: 1.0 and parameters: {'K': 1}. Best is trial 2 with value: 1.0.\n",
      "[I 2023-11-22 15:10:59,148] Trial 99 finished with value: 1.0 and parameters: {'K': 3}. Best is trial 2 with value: 1.0.\n"
     ]
    }
   ],
   "source": [
    "def objectiveKNN(trial):\n",
    "    k=trial.suggest_int('K',1,20)\n",
    "\n",
    "    #entrenamiento\n",
    "    KNN=neighbors.KNeighborsClassifier(n_neighbors=k)\n",
    "    KNN.fit(X_train,y_train)\n",
    " \n",
    "    #prediccion\n",
    "    y_pred = KNN.predict(X_test)\n",
    "\n",
    "    #metrica\n",
    "    f1=metrics.f1_score(y_test,y_pred,average='micro')\n",
    "    return f1\n",
    "\n",
    "studyKNN = optuna.create_study(direction='maximize')\n",
    "studyKNN.optimize(objectiveKNN, n_trials=50)"
   ]
  },
  {
   "cell_type": "markdown",
   "metadata": {},
   "source": [
    "Mejores parametros"
   ]
  },
  {
   "cell_type": "code",
   "execution_count": 229,
   "metadata": {},
   "outputs": [
    {
     "name": "stdout",
     "output_type": "stream",
     "text": [
      "{'K': 6}\n"
     ]
    }
   ],
   "source": [
    "print(studyKNN.best_params)"
   ]
  },
  {
   "cell_type": "markdown",
   "metadata": {},
   "source": [
    "Validación"
   ]
  },
  {
   "cell_type": "code",
   "execution_count": 230,
   "metadata": {},
   "outputs": [
    {
     "name": "stdout",
     "output_type": "stream",
     "text": [
      "              precision    recall  f1-score   support\n",
      "\n",
      "         Low       1.00      1.00      1.00        63\n",
      "      Medium       1.00      1.00      1.00        72\n",
      "        High       1.00      1.00      1.00        65\n",
      "\n",
      "    accuracy                           1.00       200\n",
      "   macro avg       1.00      1.00      1.00       200\n",
      "weighted avg       1.00      1.00      1.00       200\n",
      "\n"
     ]
    },
    {
     "data": {
      "text/plain": [
       "<sklearn.metrics._plot.confusion_matrix.ConfusionMatrixDisplay at 0x277e65c2860>"
      ]
     },
     "execution_count": 230,
     "metadata": {},
     "output_type": "execute_result"
    },
    {
     "data": {
      "image/png": "[encoded data removed]",
      "text/plain": [
       "<Figure size 640x480 with 2 Axes>"
      ]
     },
     "metadata": {},
     "output_type": "display_data"
    }
   ],
   "source": [
    "k=studyKNN.best_params['K']\n",
    "\n",
    "\n",
    "#entrenamiento\n",
    "KNN=neighbors.KNeighborsClassifier(n_neighbors=k)\n",
    "KNN.fit(X_train,y_train)\n",
    "\n",
    "#prediccion\n",
    "y_pred = KNN.predict(X_val)\n",
    "\n",
    "#metricas\n",
    "print(metrics.classification_report(y_val,y_pred,target_names=['Low','Medium','High']))\n",
    "\n",
    "cm=metrics.confusion_matrix(y_val,y_pred)\n",
    "disp=metrics.ConfusionMatrixDisplay(cm,display_labels=['Low','Medium','High'])\n",
    "disp.plot()"
   ]
  }
 ],
 "metadata": {
  "kernelspec": {
   "display_name": "Python 3",
   "language": "python",
   "name": "python3"
  },
  "language_info": {
   "codemirror_mode": {
    "name": "ipython",
    "version": 3
   },
   "file_extension": ".py",
   "mimetype": "text/x-python",
   "name": "python",
   "nbconvert_exporter": "python",
   "pygments_lexer": "ipython3",
   "version": "3.10.5"
  }
 },
 "nbformat": 4,
 "nbformat_minor": 2
}
